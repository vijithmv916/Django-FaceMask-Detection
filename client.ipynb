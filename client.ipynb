{
 "metadata": {
  "language_info": {
   "codemirror_mode": {
    "name": "ipython",
    "version": 3
   },
   "file_extension": ".py",
   "mimetype": "text/x-python",
   "name": "python",
   "nbconvert_exporter": "python",
   "pygments_lexer": "ipython3",
   "version": "3.9.4"
  },
  "orig_nbformat": 2,
  "kernelspec": {
   "name": "pythonjvsc74a57bd0b87ffb4188a07008314ce43839131437d90548ba79f5b52eb70fb0ab4b066a65",
   "display_name": "Python 3.9.4  ('env': venv)"
  },
  "metadata": {
   "interpreter": {
    "hash": "b87ffb4188a07008314ce43839131437d90548ba79f5b52eb70fb0ab4b066a65"
   }
  }
 },
 "nbformat": 4,
 "nbformat_minor": 2,
 "cells": [
  {
   "cell_type": "code",
   "execution_count": 3,
   "metadata": {},
   "outputs": [],
   "source": [
    "import websocket, json"
   ]
  },
  {
   "cell_type": "code",
   "execution_count": 6,
   "metadata": {},
   "outputs": [],
   "source": [
    "ws = websocket.WebSocket()\n",
    "ws.connect('ws://localhost:8000/ws/mydata/')"
   ]
  }
 ]
}